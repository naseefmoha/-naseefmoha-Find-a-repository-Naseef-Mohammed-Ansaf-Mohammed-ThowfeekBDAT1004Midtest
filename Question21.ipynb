{
 "cells": [
  {
   "cell_type": "markdown",
   "id": "cb97a707",
   "metadata": {},
   "source": [
    "# Answer for the Mide term Question 21"
   ]
  },
  {
   "cell_type": "code",
   "execution_count": 7,
   "id": "220c9039",
   "metadata": {},
   "outputs": [
    {
     "name": "stdout",
     "output_type": "stream",
     "text": [
      "Length of the line segment: 5.0\n",
      "Slope of the line segment: 0.75\n"
     ]
    }
   ],
   "source": [
    "import math\n",
    "\n",
    "class Coordinate:\n",
    "    def __init__(self, a_val=0, b_val=0):  \n",
    "        self.a_val = a_val\n",
    "        self.b_val = b_val\n",
    "\n",
    "class LineSegment:\n",
    "    def __init__(self, start=None, end=None):  \n",
    "        self.start = start if start else Coordinate() \n",
    "        self.end = end if end else Coordinate()       \n",
    "    \n",
    "    def calculate_length(self):\n",
    "        # Compute the length of the line segment using the Euclidean distance formula\n",
    "        return math.sqrt((self.end.a_val - self.start.a_val)**2 + (self.end.b_val - self.start.b_val)**2)\n",
    "    \n",
    "    def calculate_slope(self):\n",
    "        # Compute the slope of the line segment\n",
    "        if self.end.a_val != self.start.a_val:\n",
    "            return (self.end.b_val - self.start.b_val) / (self.end.a_val - self.start.a_val)\n",
    "        else:\n",
    "            return None  # Undefined slope for vertical segments\n",
    "\n",
    "# Example usage:\n",
    "point1 = Coordinate(1, 1)  # Instantiate point1 at (1, 1)\n",
    "point2 = Coordinate(5, 4)  # Instantiate point2 at (5, 4)\n",
    "\n",
    "segment = LineSegment(point1, point2)  # Create LineSegment using points point1 and point2\n",
    "\n",
    "# Output the length and slope of the line segment\n",
    "print(\"Length of the line segment:\", segment.calculate_length())\n",
    "print(\"Slope of the line segment:\", segment.calculate_slope())\n"
   ]
  },
  {
   "cell_type": "code",
   "execution_count": null,
   "id": "1865c78a",
   "metadata": {},
   "outputs": [],
   "source": []
  }
 ],
 "metadata": {
  "kernelspec": {
   "display_name": "Python 3 (ipykernel)",
   "language": "python",
   "name": "python3"
  },
  "language_info": {
   "codemirror_mode": {
    "name": "ipython",
    "version": 3
   },
   "file_extension": ".py",
   "mimetype": "text/x-python",
   "name": "python",
   "nbconvert_exporter": "python",
   "pygments_lexer": "ipython3",
   "version": "3.11.7"
  }
 },
 "nbformat": 4,
 "nbformat_minor": 5
}
