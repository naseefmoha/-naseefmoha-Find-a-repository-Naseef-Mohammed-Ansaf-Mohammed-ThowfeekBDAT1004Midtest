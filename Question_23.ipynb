{
 "cells": [
  {
   "cell_type": "markdown",
   "id": "acf9a52f",
   "metadata": {},
   "source": [
    "# Answer for question 23"
   ]
  },
  {
   "cell_type": "code",
   "execution_count": 3,
   "id": "2ed5e307",
   "metadata": {},
   "outputs": [
    {
     "name": "stdout",
     "output_type": "stream",
     "text": [
      "f(0, 0):\n",
      "\n",
      "f(0, 1):\n",
      "*\n",
      "\n",
      "f(0, 2):\n",
      "*\n",
      "**\n",
      " *\n",
      "\n",
      "f(0, 4):\n",
      "*\n",
      "**\n",
      " *\n",
      "****\n",
      "  *\n",
      "  **\n",
      "   *\n"
     ]
    }
   ],
   "source": [
    "def tough(indent, star):\n",
    "    if star == 0:\n",
    "        return\n",
    "    elif star == 1:\n",
    "        print(' ' * indent + '*')\n",
    "    else:\n",
    "        # Print the initial pattern\n",
    "        print(' ' * indent + '*')\n",
    "        if star > 1:\n",
    "            print(' ' * indent + '**')\n",
    "            print(' ' * (indent + 1) + '*')\n",
    "\n",
    "        # Print line with stars in the middle of the pattern\n",
    "        if star > 2:\n",
    "            print(' ' * indent + '*' * star)\n",
    "\n",
    "        # call to generate the next part of the pattern\n",
    "        if star > 2:\n",
    "            tough(indent + 2, star - 2)\n",
    "\n",
    "# Test \n",
    "print(\"f(0, 0):\")\n",
    "tough(0, 0)\n",
    "print(\"\\nf(0, 1):\")\n",
    "tough(0, 1)\n",
    "print(\"\\nf(0, 2):\")\n",
    "tough(0, 2)\n",
    "print(\"\\nf(0, 4):\")\n",
    "tough(0, 4)\n"
   ]
  },
  {
   "cell_type": "code",
   "execution_count": null,
   "id": "90d9a231",
   "metadata": {},
   "outputs": [],
   "source": []
  }
 ],
 "metadata": {
  "kernelspec": {
   "display_name": "Python 3 (ipykernel)",
   "language": "python",
   "name": "python3"
  },
  "language_info": {
   "codemirror_mode": {
    "name": "ipython",
    "version": 3
   },
   "file_extension": ".py",
   "mimetype": "text/x-python",
   "name": "python",
   "nbconvert_exporter": "python",
   "pygments_lexer": "ipython3",
   "version": "3.11.7"
  }
 },
 "nbformat": 4,
 "nbformat_minor": 5
}
