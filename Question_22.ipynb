{
 "cells": [
  {
   "cell_type": "markdown",
   "id": "96f548ac",
   "metadata": {},
   "source": [
    "# Answer for question 22"
   ]
  },
  {
   "cell_type": "code",
   "execution_count": 13,
   "id": "fb35aff4",
   "metadata": {},
   "outputs": [
    {
     "name": "stdout",
     "output_type": "stream",
     "text": [
      "+----+\n",
      "| id |\n",
      "+----+\n",
      "| 2  |\n",
      "| 4  |\n",
      "+----+\n",
      "\n",
      "Explanation:\n",
      "In 2015-01-02, the temperature was higher than the previous day (10 -> 25).\n",
      "In 2015-01-04, the temperature was higher than the previous day (20 -> 30).\n",
      "\n"
     ]
    }
   ],
   "source": [
    "import sqlite3\n",
    "from prettytable import PrettyTable\n",
    "\n",
    "# Connect to SQLite database \n",
    "conn = sqlite3.connect(':memory:')\n",
    "cursor = conn.cursor()\n",
    "\n",
    "# Create Weather table\n",
    "cursor.execute('''\n",
    "CREATE TABLE Weather (\n",
    "    id INTEGER PRIMARY KEY,\n",
    "    recordDate DATE,\n",
    "    temperature INTEGER\n",
    ")\n",
    "''')\n",
    "\n",
    "# Insert data into the table\n",
    "weath_data = [\n",
    "    (1, '2015-01-01', 10),\n",
    "    (2, '2015-01-02', 25),\n",
    "    (3, '2015-01-03', 20),\n",
    "    (4, '2015-01-04', 30)\n",
    "]\n",
    "\n",
    "cursor.executemany('INSERT INTO Weather (id, recordDate, temperature) VALUES (?, ?, ?)', weath_data)\n",
    "conn.commit()\n",
    "\n",
    "# Write query to find ids with higher temperatures compared to the previous day\n",
    "query = '''\n",
    "SELECT w1.id\n",
    "FROM Weather w1\n",
    "JOIN Weather w2\n",
    "ON DATE(w1.recordDate, '-1 day') = w2.recordDate\n",
    "WHERE w1.temperature > w2.temperature\n",
    "'''\n",
    "\n",
    "# Execute the query \n",
    "cursor.execute(query)\n",
    "resu = cursor.fetchall()\n",
    "\n",
    "# Create PrettyTable object\n",
    "table = PrettyTable()\n",
    "table.field_names = [\"id\"]\n",
    "\n",
    "# Add rows to table\n",
    "for row in resu:\n",
    "    table.add_row([row[0]])\n",
    "\n",
    "# Print formatted table\n",
    "print(table)\n",
    "\n",
    "\n",
    "explanation = \"\"\"\n",
    "Explanation:\n",
    "In 2015-01-02, the temperature was higher than the previous day (10 -> 25).\n",
    "In 2015-01-04, the temperature was higher than the previous day (20 -> 30).\n",
    "\"\"\"\n",
    "print(explanation)\n",
    "\n",
    "# Close the connection\n",
    "conn.close()\n"
   ]
  },
  {
   "cell_type": "code",
   "execution_count": null,
   "id": "5e8bc5ed",
   "metadata": {},
   "outputs": [],
   "source": []
  }
 ],
 "metadata": {
  "kernelspec": {
   "display_name": "Python 3 (ipykernel)",
   "language": "python",
   "name": "python3"
  },
  "language_info": {
   "codemirror_mode": {
    "name": "ipython",
    "version": 3
   },
   "file_extension": ".py",
   "mimetype": "text/x-python",
   "name": "python",
   "nbconvert_exporter": "python",
   "pygments_lexer": "ipython3",
   "version": "3.11.7"
  }
 },
 "nbformat": 4,
 "nbformat_minor": 5
}
